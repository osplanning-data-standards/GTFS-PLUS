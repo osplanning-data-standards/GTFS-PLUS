{
 "cells": [
  {
   "cell_type": "markdown",
   "metadata": {},
   "source": [
    "# Tutorial: Quick Translation of GTFS to GTFS-PLUS"
   ]
  },
  {
   "cell_type": "code",
   "execution_count": null,
   "metadata": {
    "collapsed": false
   },
   "outputs": [],
   "source": [
    "import os,datetime,shutil\n",
    "import pandas as pd"
   ]
  },
  {
   "cell_type": "markdown",
   "metadata": {},
   "source": [
    "# Download GTFS"
   ]
  },
  {
   "cell_type": "code",
   "execution_count": null,
   "metadata": {
    "collapsed": true
   },
   "outputs": [],
   "source": [
    "GTFS_LINK  = r\"http://admin.gotransitnc.org/sites/default/files/developergtfs/GoRaleigh_GTFS_0.zip\"\n",
    "\n",
    "BASE_DIR   = os.getcwd()\n",
    "NEW_FOLDER = \"GoRaleigh_GTFS\"\n",
    "GTFS_LOC   = os.path.join(BASE_DIR,NEW_FOLDER)"
   ]
  },
  {
   "cell_type": "code",
   "execution_count": null,
   "metadata": {
    "collapsed": false
   },
   "outputs": [],
   "source": [
    "# Download the file from the URL and unzip\n",
    "from urllib import urlopen\n",
    "from zipfile import ZipFile\n",
    "\n",
    "try:\n",
    "    os.stat(os.path.join(BASE_DIR,NEW_FOLDER))\n",
    "except:\n",
    "    os.mkdir(os.path.join(BASE_DIR,NEW_FOLDER)) \n",
    "\n",
    "\n",
    "tempzip_filename = os.path.join(BASE_DIR,NEW_FOLDER,\"tempgtfs.zip\")\n",
    "zipresp = urlopen(GTFS_LINK)\n",
    "tempzip = open(tempzip_filename, \"wb\")\n",
    "tempzip.write(zipresp.read())\n",
    "tempzip.close()\n",
    "zf = ZipFile(tempzip_filename)\n",
    "zf.extractall(path = os.path.join(BASE_DIR,NEW_FOLDER))\n",
    "zf.close()\n",
    "os.remove(tempzip_filename)"
   ]
  },
  {
   "cell_type": "markdown",
   "metadata": {},
   "source": [
    "## Validate GTFS Feed\n",
    "Make sure you are starting with a valid network.\n",
    "This can take a while for a large network. "
   ]
  },
  {
   "cell_type": "code",
   "execution_count": null,
   "metadata": {
    "collapsed": false
   },
   "outputs": [],
   "source": [
    "import transitfeed\n",
    "loader        = transitfeed.Loader(GTFS_LOC, memory_db=True)\n",
    "schedule      = loader.Load()\n",
    "schedule.Validate()"
   ]
  },
  {
   "cell_type": "code",
   "execution_count": null,
   "metadata": {
    "collapsed": false
   },
   "outputs": [],
   "source": [
    "print \"Routes Loaded:\"\n",
    "rts = [r.route_long_name for r in schedule.routes.itervalues()]\n",
    "for r in rts:\n",
    "    print \" - \",r"
   ]
  },
  {
   "cell_type": "markdown",
   "metadata": {},
   "source": [
    "## Add needed data to turn GTFS to GTFS-PLUS\n",
    "There are files that we need to add:  \n",
    "  * routes_ft.txt  \n",
    "  * vehicles_ft.txt  \n",
    "  * trips_ft.txt  \n",
    "  * transfers_ft.txt \n",
    "  * walk_access_ft.txt "
   ]
  },
  {
   "cell_type": "code",
   "execution_count": null,
   "metadata": {
    "collapsed": false
   },
   "outputs": [],
   "source": [
    "import csv\n",
    "import gtfs_plus"
   ]
  },
  {
   "cell_type": "code",
   "execution_count": null,
   "metadata": {
    "collapsed": false
   },
   "outputs": [],
   "source": [
    "GTFS_PLUS_LOC   = \"GoRaleigh_GTFS_PLUS\"\n",
    "OUTPUT_DIR      = os.path.join(BASE_DIR,GTFS_PLUS_LOC)\n",
    "\n",
    "# start with the GTFS files if you don't have these already\n",
    "try:\n",
    "    shutil.copytree(GTFS_LOC, \"GoRaleigh_GTFS_PLUS\")\n",
    "    # copy over the config file from the earlier tutorials\n",
    "    shutil.copy(os.path.join(BASE_DIR,\"tta\",\"input\",\"demand-single\",\"config_ft.txt\"), \n",
    "                os.path.join(OUTPUT_DIR, \"config_ft.txt\"))\n",
    "except:\n",
    "    # hopefully this is ok and you're just doing this multiple times\n",
    "    pass\n",
    "\n",
    "DEFAULT_MODE    = \"local_bus\"\n",
    "DEFAULT_VEHICLE = \"standard_bus\"\n",
    "SEATED_CAPACITY   = 30\n",
    "STANDING_CAPACITY = 20\n",
    "MAX_SPEED         = 45\n",
    "ACCELERATION      = 3\n",
    "DECELERATION      = 4\n",
    "DWELL = r'\"3 + 2*[boards] + 1.5*[alights]\"'"
   ]
  },
  {
   "cell_type": "markdown",
   "metadata": {},
   "source": [
    "### Create `routes_ft.txt` \n",
    "For now, assume a default mode"
   ]
  },
  {
   "cell_type": "code",
   "execution_count": null,
   "metadata": {
    "collapsed": false
   },
   "outputs": [],
   "source": [
    "route_modes_dict = gtfs_plus.routesft_assume_mode(schedule, DEFAULT_MODE)\n",
    "with open(os.path.join(OUTPUT_DIR,'routes_ft.txt'),'wb') as f:\n",
    "    f.write(\"route_id,mode\\n\")\n",
    "    w = csv.writer(f)\n",
    "    w.writerows(route_modes_dict.items())"
   ]
  },
  {
   "cell_type": "markdown",
   "metadata": {},
   "source": [
    "### Create `trips_ft.txt` \n",
    "For now, assume a default vehicle"
   ]
  },
  {
   "cell_type": "code",
   "execution_count": null,
   "metadata": {
    "collapsed": false
   },
   "outputs": [],
   "source": [
    "trip_vehicle_dict = dict(zip(schedule.trips.keys(),[DEFAULT_VEHICLE]*len(schedule.trips.keys())))\n",
    "with open(os.path.join(OUTPUT_DIR,'trips_ft.txt'),'wb') as f:\n",
    "    f.write(\"trip_id,vehicle_name\\n\")\n",
    "    w = csv.writer(f)\n",
    "    w.writerows(trip_vehicle_dict.items())"
   ]
  },
  {
   "cell_type": "markdown",
   "metadata": {},
   "source": [
    "### Create `vehicles_ft.txt` \n",
    "FOr now, assume mostly defaults"
   ]
  },
  {
   "cell_type": "code",
   "execution_count": null,
   "metadata": {
    "collapsed": false
   },
   "outputs": [],
   "source": [
    "with open(os.path.join(OUTPUT_DIR,'vehicles_ft.txt'),'wb') as f:\n",
    "    f.write(\"vehicle_name,seated_capacity,standing_capacity,max_speed,acceleration,deceleration,dwell_formula\\n\")\n",
    "    f.write(\"%s,%d,%d,%4.2f,%4.2f,%4.2f,%s\\n\"%(DEFAULT_VEHICLE,SEATED_CAPACITY,STANDING_CAPACITY,MAX_SPEED,ACCELERATION,DECELERATION,DWELL))"
   ]
  },
  {
   "cell_type": "markdown",
   "metadata": {},
   "source": [
    "### Create `transfers_ft.txt` \n"
   ]
  },
  {
   "cell_type": "code",
   "execution_count": null,
   "metadata": {
    "collapsed": false
   },
   "outputs": [],
   "source": [
    "xfer_dict = gtfs_plus.create_tranfers(schedule,max_xfer_dist=0.6)\n",
    "\n",
    "with open(os.path.join(OUTPUT_DIR,'transfers_ft.txt'),'wb') as f:\n",
    "    f.write(\"from_stop_id,to_stop_id,dist\\n\")\n",
    "    for k,v in xfer_dict.iteritems():\n",
    "        f.write(\"%s,%s,%4.2f\\n\" % (k[0],k[1],v))\n",
    "        #and reverse link\n",
    "        f.write(\"%s,%s,%4.2f\\n\" % (k[1],k[0],v))"
   ]
  },
  {
   "cell_type": "markdown",
   "metadata": {},
   "source": [
    "### `walk_access.txt` \n",
    "Should be created based on the geography of the demand you are using."
   ]
  },
  {
   "cell_type": "code",
   "execution_count": null,
   "metadata": {
    "collapsed": true
   },
   "outputs": [],
   "source": []
  }
 ],
 "metadata": {
  "anaconda-cloud": {},
  "kernelspec": {
   "display_name": "Python 2",
   "language": "python",
   "name": "python2"
  },
  "language_info": {
   "codemirror_mode": {
    "name": "ipython",
    "version": 2
   },
   "file_extension": ".py",
   "mimetype": "text/x-python",
   "name": "python",
   "nbconvert_exporter": "python",
   "pygments_lexer": "ipython2",
   "version": "2.7.13"
  }
 },
 "nbformat": 4,
 "nbformat_minor": 2
}
